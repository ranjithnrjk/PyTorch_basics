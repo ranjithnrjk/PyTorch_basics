{
 "cells": [
  {
   "cell_type": "code",
   "execution_count": 1,
   "id": "5e2104f8",
   "metadata": {},
   "outputs": [],
   "source": [
    "import torch\n",
    "import matplotlib.pyplot as plt\n",
    "import numpy as np"
   ]
  },
  {
   "cell_type": "markdown",
   "id": "0594e712",
   "metadata": {},
   "source": [
    "# 1. Automatic Differentiation with `torch.autograd`\n",
    "\n",
    "Before proceeding with autograd, will understand the basic terms:\n",
    "\n",
    "- **Forward Propagation**:\n",
    "  - Computes the model's output by passing the input data through the network layers. It is often called Forward pass.\n",
    "\n",
    "- **Backward Propagation**:\n",
    "  - Calculates the gradients of the loss with respect to the model's parameters using the chain rule, enabling parameter updates to minimize the loss."
   ]
  },
  {
   "cell_type": "markdown",
   "id": "486315cc",
   "metadata": {},
   "source": [
    "### 1.1 ```torch.autograd```"
   ]
  },
  {
   "cell_type": "markdown",
   "id": "9001c2b5",
   "metadata": {},
   "source": [
    "\n",
    "\n",
    "- We create two tensors `x` and `y` with `requires_grad=True`, indicating that we want to compute gradients for these tensors.\n",
    "\n",
    "\n",
    "\n",
    "- We perform simple operations on `x` and `y` to obtain `z`.\n",
    "\n",
    "- Computing Gradients:\n",
    "We call `z.backward()` to compute the gradients of `z` with respect to `x` and `y`. The gradients are stored in the `grad` attribute of each tensor.\n",
    "\n",
    "\n",
    "\n",
    "\n",
    "In the following example:\n",
    "\n",
    "\n",
    "- The operation is $ z = x \\cdot y + y^2 $.\n",
    "- The partial derivative of $ z $ with respect to $ x $ is $ \\frac{\\partial z}{\\partial x} = y $.\n",
    "- The partial derivative of $ z $ with respect to $ y $ is $ \\frac{\\partial z}{\\partial y} = x + 2y $.\n",
    "\n",
    "Given $ x = 2.0 $ and $ y = 3.0 $:\n",
    "\n",
    "- The gradient of $ z $ w.r.t. $ x $ is $ 3.0 $.\n",
    "- The gradient of $ z $ w.r.t. $ y $ is $ 2.0 + 2 \\cdot 3.0 = 8.0 $.\n",
    "\n",
    "Tensors that require gradients will have their operations tracked by PyTorch's autograd engine, enabling the computation of gradients during backpropagation.\n",
    "\n",
    "\n",
    "<img src=https://learnopencv.com/wp-content/uploads/2024/07/Autograd-Computation-Graph-2-2.png height = 500>\n",
    "\n",
    "\n",
    "The automatic differentiation provided by `torch.autograd` simplifies this process by handling the complex chain rule calculations needed for backpropagation through the entire network.\n",
    "\n",
    "\n",
    "\n",
    "\n",
    "\n",
    "\n",
    "For $\\frac{\\partial z}{\\partial x}$:\n",
    "\n",
    "$$\\frac{\\partial z}{\\partial x} = \\frac{\\partial z}{\\partial p} \\frac{\\partial p}{\\partial x} + \\frac{\\partial z}{\\partial q} \\frac{\\partial q}{\\partial x} = 1 \\cdot y + 1 \\cdot 0 = y$$\n",
    "\n",
    "For $\\frac{\\partial z}{\\partial y}$:\n",
    "\n",
    "$$\\frac{\\partial z}{\\partial y} = \\frac{\\partial z}{\\partial p} \\frac{\\partial p}{\\partial y} + \\frac{\\partial z}{\\partial q} \\frac{\\partial q}{\\partial y} = 1 \\cdot x + 1 \\cdot 2y = x + 2y$$\n",
    "\n",
    "These equations correspond to the chain rule calculations happening behind the scenes, demonstrating how PyTorch's autograd system computes gradients through the computational graph."
   ]
  },
  {
   "cell_type": "code",
   "execution_count": 21,
   "id": "00238b48",
   "metadata": {},
   "outputs": [
    {
     "ename": "RuntimeError",
     "evalue": "Trying to backward through the graph a second time (or directly access saved tensors after they have already been freed). Saved intermediate values of the graph are freed when you call .backward() or autograd.grad(). Specify retain_graph=True if you need to backward through the graph a second time or if you need to access saved tensors after calling backward.",
     "output_type": "error",
     "traceback": [
      "\u001b[31m---------------------------------------------------------------------------\u001b[39m",
      "\u001b[31mRuntimeError\u001b[39m                              Traceback (most recent call last)",
      "\u001b[36mCell\u001b[39m\u001b[36m \u001b[39m\u001b[32mIn[21]\u001b[39m\u001b[32m, line 16\u001b[39m\n\u001b[32m     14\u001b[39m z_sum.retain_grad()\n\u001b[32m     15\u001b[39m \u001b[38;5;66;03m# Perform backward pass on z_sum\u001b[39;00m\n\u001b[32m---> \u001b[39m\u001b[32m16\u001b[39m \u001b[43mz_sum\u001b[49m\u001b[43m.\u001b[49m\u001b[43mbackward\u001b[49m\u001b[43m(\u001b[49m\u001b[43m)\u001b[49m\n\u001b[32m     18\u001b[39m \u001b[38;5;28mprint\u001b[39m(z)\n\u001b[32m     19\u001b[39m \u001b[38;5;28mprint\u001b[39m(z_sum)\n",
      "\u001b[36mFile \u001b[39m\u001b[32m~/anaconda3/envs/gen_ai_env/lib/python3.12/site-packages/torch/_tensor.py:648\u001b[39m, in \u001b[36mTensor.backward\u001b[39m\u001b[34m(self, gradient, retain_graph, create_graph, inputs)\u001b[39m\n\u001b[32m    638\u001b[39m \u001b[38;5;28;01mif\u001b[39;00m has_torch_function_unary(\u001b[38;5;28mself\u001b[39m):\n\u001b[32m    639\u001b[39m     \u001b[38;5;28;01mreturn\u001b[39;00m handle_torch_function(\n\u001b[32m    640\u001b[39m         Tensor.backward,\n\u001b[32m    641\u001b[39m         (\u001b[38;5;28mself\u001b[39m,),\n\u001b[32m   (...)\u001b[39m\u001b[32m    646\u001b[39m         inputs=inputs,\n\u001b[32m    647\u001b[39m     )\n\u001b[32m--> \u001b[39m\u001b[32m648\u001b[39m \u001b[43mtorch\u001b[49m\u001b[43m.\u001b[49m\u001b[43mautograd\u001b[49m\u001b[43m.\u001b[49m\u001b[43mbackward\u001b[49m\u001b[43m(\u001b[49m\n\u001b[32m    649\u001b[39m \u001b[43m    \u001b[49m\u001b[38;5;28;43mself\u001b[39;49m\u001b[43m,\u001b[49m\u001b[43m \u001b[49m\u001b[43mgradient\u001b[49m\u001b[43m,\u001b[49m\u001b[43m \u001b[49m\u001b[43mretain_graph\u001b[49m\u001b[43m,\u001b[49m\u001b[43m \u001b[49m\u001b[43mcreate_graph\u001b[49m\u001b[43m,\u001b[49m\u001b[43m \u001b[49m\u001b[43minputs\u001b[49m\u001b[43m=\u001b[49m\u001b[43minputs\u001b[49m\n\u001b[32m    650\u001b[39m \u001b[43m\u001b[49m\u001b[43m)\u001b[49m\n",
      "\u001b[36mFile \u001b[39m\u001b[32m~/anaconda3/envs/gen_ai_env/lib/python3.12/site-packages/torch/autograd/__init__.py:353\u001b[39m, in \u001b[36mbackward\u001b[39m\u001b[34m(tensors, grad_tensors, retain_graph, create_graph, grad_variables, inputs)\u001b[39m\n\u001b[32m    348\u001b[39m     retain_graph = create_graph\n\u001b[32m    350\u001b[39m \u001b[38;5;66;03m# The reason we repeat the same comment below is that\u001b[39;00m\n\u001b[32m    351\u001b[39m \u001b[38;5;66;03m# some Python versions print out the first line of a multi-line function\u001b[39;00m\n\u001b[32m    352\u001b[39m \u001b[38;5;66;03m# calls in the traceback and some print out the last line\u001b[39;00m\n\u001b[32m--> \u001b[39m\u001b[32m353\u001b[39m \u001b[43m_engine_run_backward\u001b[49m\u001b[43m(\u001b[49m\n\u001b[32m    354\u001b[39m \u001b[43m    \u001b[49m\u001b[43mtensors\u001b[49m\u001b[43m,\u001b[49m\n\u001b[32m    355\u001b[39m \u001b[43m    \u001b[49m\u001b[43mgrad_tensors_\u001b[49m\u001b[43m,\u001b[49m\n\u001b[32m    356\u001b[39m \u001b[43m    \u001b[49m\u001b[43mretain_graph\u001b[49m\u001b[43m,\u001b[49m\n\u001b[32m    357\u001b[39m \u001b[43m    \u001b[49m\u001b[43mcreate_graph\u001b[49m\u001b[43m,\u001b[49m\n\u001b[32m    358\u001b[39m \u001b[43m    \u001b[49m\u001b[43minputs\u001b[49m\u001b[43m,\u001b[49m\n\u001b[32m    359\u001b[39m \u001b[43m    \u001b[49m\u001b[43mallow_unreachable\u001b[49m\u001b[43m=\u001b[49m\u001b[38;5;28;43;01mTrue\u001b[39;49;00m\u001b[43m,\u001b[49m\n\u001b[32m    360\u001b[39m \u001b[43m    \u001b[49m\u001b[43maccumulate_grad\u001b[49m\u001b[43m=\u001b[49m\u001b[38;5;28;43;01mTrue\u001b[39;49;00m\u001b[43m,\u001b[49m\n\u001b[32m    361\u001b[39m \u001b[43m\u001b[49m\u001b[43m)\u001b[49m\n",
      "\u001b[36mFile \u001b[39m\u001b[32m~/anaconda3/envs/gen_ai_env/lib/python3.12/site-packages/torch/autograd/graph.py:824\u001b[39m, in \u001b[36m_engine_run_backward\u001b[39m\u001b[34m(t_outputs, *args, **kwargs)\u001b[39m\n\u001b[32m    822\u001b[39m     unregister_hooks = _register_logging_hooks_on_whole_graph(t_outputs)\n\u001b[32m    823\u001b[39m \u001b[38;5;28;01mtry\u001b[39;00m:\n\u001b[32m--> \u001b[39m\u001b[32m824\u001b[39m     \u001b[38;5;28;01mreturn\u001b[39;00m \u001b[43mVariable\u001b[49m\u001b[43m.\u001b[49m\u001b[43m_execution_engine\u001b[49m\u001b[43m.\u001b[49m\u001b[43mrun_backward\u001b[49m\u001b[43m(\u001b[49m\u001b[43m  \u001b[49m\u001b[38;5;66;43;03m# Calls into the C++ engine to run the backward pass\u001b[39;49;00m\n\u001b[32m    825\u001b[39m \u001b[43m        \u001b[49m\u001b[43mt_outputs\u001b[49m\u001b[43m,\u001b[49m\u001b[43m \u001b[49m\u001b[43m*\u001b[49m\u001b[43margs\u001b[49m\u001b[43m,\u001b[49m\u001b[43m \u001b[49m\u001b[43m*\u001b[49m\u001b[43m*\u001b[49m\u001b[43mkwargs\u001b[49m\n\u001b[32m    826\u001b[39m \u001b[43m    \u001b[49m\u001b[43m)\u001b[49m  \u001b[38;5;66;03m# Calls into the C++ engine to run the backward pass\u001b[39;00m\n\u001b[32m    827\u001b[39m \u001b[38;5;28;01mfinally\u001b[39;00m:\n\u001b[32m    828\u001b[39m     \u001b[38;5;28;01mif\u001b[39;00m attach_logging_hooks:\n",
      "\u001b[31mRuntimeError\u001b[39m: Trying to backward through the graph a second time (or directly access saved tensors after they have already been freed). Saved intermediate values of the graph are freed when you call .backward() or autograd.grad(). Specify retain_graph=True if you need to backward through the graph a second time or if you need to access saved tensors after calling backward."
     ]
    }
   ],
   "source": [
    "# Create tensors with requires_grad=True\n",
    "x = torch.tensor([1.0, 2.0, 3.0], requires_grad=True)\n",
    "y = torch.tensor([[4.0], [5.0]], requires_grad=True)\n",
    "\n",
    "# Perform some operations\n",
    "z = x * y + y**2\n",
    "\n",
    "z.retain_grad()  # Retain gradients for z\n",
    "\n",
    "z.backward(gradient=torch.ones_like(z))  # Specify a gradient for z\n",
    "# Compute the gradients\n",
    "z_sum = z.sum()\n",
    "# Retain gradients for z_sum\n",
    "z_sum.retain_grad()\n",
    "# Perform backward pass on z_sum\n",
    "z_sum.backward()\n",
    "\n",
    "print(z)\n",
    "print(z_sum)\n",
    "print(f\"Gradient of x: {x.grad}\")\n",
    "print(f\"Gradient of y: {y.grad}\")\n",
    "print(f\"Gradient of z: {z.grad}\")\n",
    "print(f\"Gradient of z_sum: {z_sum.grad}\")\n",
    "print(f\"Result of the operation: z = {z.detach()}\")"
   ]
  },
  {
   "cell_type": "code",
   "execution_count": null,
   "id": "06339171",
   "metadata": {},
   "outputs": [
    {
     "data": {
      "text/plain": [
       "(tensor([1., 2., 3.], requires_grad=True),\n",
       " tensor([[4.],\n",
       "         [5.]], requires_grad=True),\n",
       " torch.Size([3]),\n",
       " torch.Size([2, 1]),\n",
       " torch.Size([2, 3]),\n",
       " tensor([[ 4.,  8., 12.],\n",
       "         [ 5., 10., 15.]], grad_fn=<MulBackward0>))"
      ]
     },
     "execution_count": 3,
     "metadata": {},
     "output_type": "execute_result"
    }
   ],
   "source": [
    "x, y, x.shape, y.shape, (x * y).shape, x*y"
   ]
  },
  {
   "cell_type": "code",
   "execution_count": 11,
   "id": "a1576a94",
   "metadata": {},
   "outputs": [
    {
     "data": {
      "text/plain": [
       "tensor([[16.],\n",
       "        [25.]], grad_fn=<PowBackward0>)"
      ]
     },
     "execution_count": 11,
     "metadata": {},
     "output_type": "execute_result"
    }
   ],
   "source": [
    "y**2"
   ]
  },
  {
   "cell_type": "markdown",
   "id": "a7014e96",
   "metadata": {},
   "source": [
    "### 1.2 Gradient Computation Graph"
   ]
  },
  {
   "cell_type": "markdown",
   "id": "f91a1251",
   "metadata": {},
   "source": [
    "## 1.2. Gradient Computation Graph\n",
    "\n",
    "\n",
    "A computation graph is a visual representation of the sequence of operations performed on tensors in a neural network, showing how each operation contributes to the final result. It is crucial for understanding and debugging the flow of data and gradients in deep learning models.\n",
    "\n",
    "[torchviz](https://github.com/szagoruyko/pytorchviz) is a tool used to visualize the computation graph of any PyTorch model.\n",
    "\n",
    "\n",
    "<img src=https://learnopencv.com/wp-content/uploads/2024/07/Autograd-Operators-Graph-1-1.png height = 500 >\n"
   ]
  },
  {
   "cell_type": "code",
   "execution_count": 5,
   "id": "f26da932",
   "metadata": {},
   "outputs": [
    {
     "data": {
      "text/plain": [
       "'grad_computation_graph.png'"
      ]
     },
     "execution_count": 5,
     "metadata": {},
     "output_type": "execute_result"
    }
   ],
   "source": [
    "from torchviz import make_dot\n",
    "# Visualize the computation graph\n",
    "dot = make_dot(z, params={\"x\": x, \"y\": y, \"z\": z})\n",
    "dot.render(\"grad_computation_graph\", format=\"png\")"
   ]
  },
  {
   "cell_type": "code",
   "execution_count": 7,
   "id": "229ae5a8",
   "metadata": {},
   "outputs": [
    {
     "data": {
      "image/png": "[encoded data removed]",
      "text/plain": [
       "<Figure size 640x480 with 1 Axes>"
      ]
     },
     "metadata": {},
     "output_type": "display_data"
    }
   ],
   "source": [
    "from PIL import Image\n",
    "import matplotlib.pyplot as plt\n",
    "\n",
    "# Display the saved image\n",
    "img = Image.open(\"grad_computation_graph.png\")\n",
    "plt.imshow(img)\n",
    "plt.axis('off')  # Hide axes\n",
    "plt.show()"
   ]
  },
  {
   "cell_type": "markdown",
   "id": "f515cc88",
   "metadata": {},
   "source": [
    "## 1.3. Detaching Tensors from Computation Graph\n",
    "\n",
    "The `detach()` method is used to create a new tensor that shares storage with the original tensor but without tracking operations. When you call `detach()`, it returns a new tensor that does not require gradients. This is useful when you want to perform operations on a tensor without affecting the computation graph."
   ]
  },
  {
   "cell_type": "code",
   "execution_count": 9,
   "id": "8d28497f",
   "metadata": {},
   "outputs": [
    {
     "name": "stdout",
     "output_type": "stream",
     "text": [
      "Before detaching z from computation graph, requires_grad param: True\n",
      "After detaching z from computation graph, requires_grad param: False\n"
     ]
    }
   ],
   "source": [
    "# Let's detach tensor (z) from the computation graph\n",
    "print(f'Before detaching z from computation graph, requires_grad param: {z.requires_grad}')\n",
    "z_detached = z.detach()\n",
    "print(f'After detaching z from computation graph, requires_grad param: {z_detached.requires_grad}')"
   ]
  },
  {
   "cell_type": "markdown",
   "id": "3bcc1a3f",
   "metadata": {},
   "source": [
    "###  1.4. Can Backpropagation be performed when `requires_grad=False`?"
   ]
  },
  {
   "cell_type": "markdown",
   "id": "9bab411d",
   "metadata": {},
   "source": [
    "Now the same tensors $x$ and $y$ are created with `requires_grad=False`.\n",
    "\n",
    "When attempting to compute the gradients using `z.backward()`, a **RuntimeError** is raised because the tensors do not require gradients, and thus do not have a `grad_fn`."
   ]
  },
  {
   "cell_type": "markdown",
   "id": "25296a4c",
   "metadata": {},
   "source": [
    "In this case, since `requires_grad=False` was used, the computation graph is essentially empty, as no gradients will be tracked."
   ]
  },
  {
   "cell_type": "code",
   "execution_count": 12,
   "id": "7e0058e6",
   "metadata": {},
   "outputs": [
    {
     "name": "stdout",
     "output_type": "stream",
     "text": [
      "Error encountered: element 0 of tensors does not require grad and does not have a grad_fn\n",
      "Gradient of x after detaching: None\n",
      "Gradient of y after detaching: None\n"
     ]
    }
   ],
   "source": [
    "try:\n",
    "    x = torch.tensor([1.0, 2.0, 3.0], requires_grad=False)\n",
    "    y = torch.tensor([[4.0], [5.0]], requires_grad=False)\n",
    "\n",
    "    z = x * y + y**2\n",
    "\n",
    "    # Compute the gradients again\n",
    "    z.backward()  # This will not compute gradients since requires_grad=False\n",
    "except RuntimeError as e:\n",
    "    print(f\"Error encountered: {e}\")\n",
    "finally:\n",
    "    # Detach x and y from the computation graph\n",
    "    x = x.detach()\n",
    "    y = y.detach()\n",
    "    print(f\"Gradient of x after detaching: {x.grad}\")\n",
    "    print(f\"Gradient of y after detaching: {y.grad}\")"
   ]
  },
  {
   "cell_type": "markdown",
   "id": "b246f0af",
   "metadata": {},
   "source": [
    "# 2. Backpropagation in Neural Networks\n",
    "\n",
    "<img src=https://learnopencv.com/wp-content/uploads/2017/10/gradient-descent-2d-diagram.png>"
   ]
  },
  {
   "cell_type": "markdown",
   "id": "8a885f66",
   "metadata": {},
   "source": [
    "We have understood the mathematical intuition behind and how **torch.autograd** takes care of automatic differentiation with an example.\n",
    "\n",
    "Then,\n",
    " * The loss is calculated between prediction and target using `loss(predcition,target)`\n",
    " * Then backpropagation is performed using `loss.backward()`\n",
    " * We update the new weights using `optimizer.step()`\n",
    "\n",
    "<img src=https://learnopencv.com/wp-content/uploads/2023/01/keras-linear-regression-weight-update-block-diagram.png>\n",
    "\n",
    "\n",
    "**The Weight Update Formula is:**\n",
    "\n",
    "\n",
    "$$ \\mathbf{w}_{\\text{new}} = \\mathbf{w} - \\eta \\nabla L(\\mathbf{w}) $$\n",
    "\n",
    "The gradient of $ L $ is a vector of partial derivatives:\n",
    "\n",
    "$$ \\nabla L = \\left( \\frac{\\partial L}{\\partial w_1}, \\frac{\\partial L}{\\partial w_2}, \\ldots, \\frac{\\partial L}{\\partial w_n} \\right) $$\n",
    "\n",
    "- **Current Weights $( \\mathbf{w} )$**: These are the weights of the model before the update.\n",
    "- **Learning Rate $( \\eta )$**: A hyperparameter that controls the step size of the weight update. A smaller learning rate makes the training process slower but more precise, while a larger learning rate makes the training process faster but it may sometimes overshoot the optimal solution.\n",
    "- **Gradient of the Loss $( \\nabla L(\\mathbf{w}) )$**: The partial derivatives of the loss function with respect to each weight. This indicates the direction and magnitude of the steepest ascent in the loss function.\n",
    "- **Updated Weights $(\\mathbf{w}_{\\text{new}} )$**: The new weights after applying the gradient descent step.\n",
    "\n",
    "\n",
    "After applying the updates, it's crucial to zero out the gradients. This is typically done using: `optimizer.zero_grad()`\n",
    "\n"
   ]
  },
  {
   "cell_type": "markdown",
   "id": "556cce52",
   "metadata": {},
   "source": [
    "Interesting, right? This is how the model learns. During training, the model iteratively adjusts its weights and biases to minimize the loss function, which measures the difference between the predicted outputs and the actual targets.\n",
    "\n",
    "This process of forward pass, gradient computation, backward pass, and parameter update is repeated for many iterations (epochs) over the entire dataset. With each iteration, the model's parameters are refined, gradually reducing the loss and improving the model's performance.\n",
    "\n",
    "In our upcoming notebooks we will understand all these concepts with hands on training."
   ]
  },
  {
   "cell_type": "markdown",
   "id": "950a83b4",
   "metadata": {},
   "source": [
    "# 3. Conclusion\n",
    "\n",
    "We learnt how the gradients are updated mathematically with a node graph diagrams. We also visualized the computation graph using torchviz, providing a clear understanding of how operations are structured in PyTorch. Finally, we understood how weight updates happen during training with code, illustrating the core mechanism of model learning."
   ]
  },
  {
   "cell_type": "code",
   "execution_count": 15,
   "id": "2124c6cd",
   "metadata": {},
   "outputs": [
    {
     "name": "stdout",
     "output_type": "stream",
     "text": [
      "Help on function backward in module torch._tensor:\n",
      "\n",
      "backward(self, gradient=None, retain_graph=None, create_graph=False, inputs=None)\n",
      "    Computes the gradient of current tensor wrt graph leaves.\n",
      "\n",
      "    The graph is differentiated using the chain rule. If the tensor is\n",
      "    non-scalar (i.e. its data has more than one element) and requires\n",
      "    gradient, the function additionally requires specifying a ``gradient``.\n",
      "    It should be a tensor of matching type and shape, that represents\n",
      "    the gradient of the differentiated function w.r.t. ``self``.\n",
      "\n",
      "    This function accumulates gradients in the leaves - you might need to zero\n",
      "    ``.grad`` attributes or set them to ``None`` before calling it.\n",
      "    See :ref:`Default gradient layouts<default-grad-layouts>`\n",
      "    for details on the memory layout of accumulated gradients.\n",
      "\n",
      "    .. note::\n",
      "\n",
      "        If you run any forward ops, create ``gradient``, and/or call ``backward``\n",
      "        in a user-specified CUDA stream context, see\n",
      "        :ref:`Stream semantics of backward passes<bwd-cuda-stream-semantics>`.\n",
      "\n",
      "    .. note::\n",
      "\n",
      "        When ``inputs`` are provided and a given input is not a leaf,\n",
      "        the current implementation will call its grad_fn (though it is not strictly needed to get this gradients).\n",
      "        It is an implementation detail on which the user should not rely.\n",
      "        See https://github.com/pytorch/pytorch/pull/60521#issuecomment-867061780 for more details.\n",
      "\n",
      "    Args:\n",
      "        gradient (Tensor, optional): The gradient of the function\n",
      "            being differentiated w.r.t. ``self``.\n",
      "            This argument can be omitted if ``self`` is a scalar.\n",
      "        retain_graph (bool, optional): If ``False``, the graph used to compute\n",
      "            the grads will be freed. Note that in nearly all cases setting\n",
      "            this option to True is not needed and often can be worked around\n",
      "            in a much more efficient way. Defaults to the value of\n",
      "            ``create_graph``.\n",
      "        create_graph (bool, optional): If ``True``, graph of the derivative will\n",
      "            be constructed, allowing to compute higher order derivative\n",
      "            products. Defaults to ``False``.\n",
      "        inputs (sequence of Tensor, optional): Inputs w.r.t. which the gradient will be\n",
      "            accumulated into ``.grad``. All other tensors will be ignored. If not\n",
      "            provided, the gradient is accumulated into all the leaf Tensors that were\n",
      "            used to compute the :attr:`tensors`.\n",
      "\n"
     ]
    }
   ],
   "source": [
    "help(torch.Tensor.backward)"
   ]
  },
  {
   "cell_type": "code",
   "execution_count": null,
   "id": "c5b272c3",
   "metadata": {},
   "outputs": [],
   "source": []
  },
  {
   "cell_type": "code",
   "execution_count": null,
   "metadata": {},
   "outputs": [],
   "source": []
  },
  {
   "cell_type": "code",
   "execution_count": null,
   "id": "845eb6a9",
   "metadata": {},
   "outputs": [],
   "source": []
  }
 ],
 "metadata": {
  "kernelspec": {
   "display_name": "gen_ai_env",
   "language": "python",
   "name": "python3"
  },
  "language_info": {
   "codemirror_mode": {
    "name": "ipython",
    "version": 3
   },
   "file_extension": ".py",
   "mimetype": "text/x-python",
   "name": "python",
   "nbconvert_exporter": "python",
   "pygments_lexer": "ipython3",
   "version": "3.12.0"
  }
 },
 "nbformat": 4,
 "nbformat_minor": 5
}
