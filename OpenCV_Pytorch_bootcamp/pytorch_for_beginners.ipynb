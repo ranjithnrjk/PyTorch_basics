{
 "cells": [
  {
   "cell_type": "code",
   "execution_count": 2,
   "id": "441cf23c",
   "metadata": {},
   "outputs": [],
   "source": [
    "import torch\n",
    "import matplotlib.pyplot as plt\n",
    "import numpy as np\n",
    "import cv2"
   ]
  },
  {
   "cell_type": "code",
   "execution_count": 3,
   "id": "c2b47b41",
   "metadata": {},
   "outputs": [],
   "source": [
    "# Download some digit images from MNIST dataset\n",
    "!wget -q \"https://learnopencv.com/wp-content/uploads/2024/07/mnist_0.jpg\" -O \"mnist_0.jpg\"\n",
    "!wget -q \"https://learnopencv.com/wp-content/uploads/2024/07/mnist_1.jpg\" -O \"mnist_1.jpg\""
   ]
  },
  {
   "cell_type": "code",
   "execution_count": 4,
   "id": "8e92ef5e",
   "metadata": {},
   "outputs": [
    {
     "name": "stdout",
     "output_type": "stream",
     "text": [
      "torch version: 2.7.1+cu126\n"
     ]
    }
   ],
   "source": [
    "print(f'torch version: {torch.__version__}')"
   ]
  },
  {
   "cell_type": "markdown",
   "id": "9e5ef9d3",
   "metadata": {},
   "source": [
    "## 1. Converting Images to Batched tensors"
   ]
  },
  {
   "cell_type": "code",
   "execution_count": 5,
   "id": "0a8daba4",
   "metadata": {},
   "outputs": [
    {
     "data": {
      "image/png": "[encoded data removed]",
      "text/plain": [
       "<Figure size 1000x500 with 2 Axes>"
      ]
     },
     "metadata": {},
     "output_type": "display_data"
    }
   ],
   "source": [
    "digit_0_array_og = cv2.imread('mnist_0.jpg')\n",
    "digit_1_array_og = cv2.imread('mnist_1.jpg')\n",
    "\n",
    "digit_0_array_gray = cv2.imread('mnist_0.jpg', cv2.IMREAD_GRAYSCALE)\n",
    "digit_1_array_gray = cv2.imread('mnist_1.jpg', cv2.IMREAD_GRAYSCALE)\n",
    "\n",
    "# Visualize the images\n",
    "fig, ax = plt.subplots(1, 2, figsize=(10, 5))\n",
    "\n",
    "ax[0].imshow(digit_0_array_gray, cmap='gray', interpolation='none')\n",
    "ax[0].set_title('Digit 0 Image')\n",
    "ax[0].axis('off')\n",
    "\n",
    "ax[1].imshow(digit_1_array_gray, cmap='gray', interpolation='none')\n",
    "ax[1].set_title('Digit 1 Image')\n",
    "ax[1].axis('off')\n",
    "plt.show()"
   ]
  },
  {
   "cell_type": "code",
   "execution_count": 6,
   "id": "a8985bc4",
   "metadata": {},
   "outputs": [
    {
     "name": "stdout",
     "output_type": "stream",
     "text": [
      "Image shape: (28, 28, 3)\n",
      "Max pixel value: 255, Min pixel value: 0\n"
     ]
    }
   ],
   "source": [
    "# Numpy array of the image\n",
    "print(f\"Image shape: {digit_0_array_og.shape}\")\n",
    "print(f\"Max pixel value: {np.max(digit_0_array_og)}, Min pixel value: {np.min(digit_0_array_og)}\")"
   ]
  },
  {
   "cell_type": "code",
   "execution_count": 7,
   "id": "9b53157e",
   "metadata": {},
   "outputs": [
    {
     "data": {
      "text/plain": [
       "array([[  0,   0,   0,   0,   7,   1,   0,   3,   0,  18,   0,   3,   0,\n",
       "          0,   3,   0,   0,   9,   0,   2,   0,  11,   0,   1,   0,   0,\n",
       "          0,   0],\n",
       "       [  0,   7,   7,   0,   0,   0,   0,   0,   2,   8,   0,   4,   0,\n",
       "          0,   0,   6,   4,   0,   2,   3,   2,   0,   0,  11,   0,   0,\n",
       "          0,   0],\n",
       "       [  1,   0,   2,   6,   4,   9,   9,   0,   0,   2,   0,   3,   1,\n",
       "         15,   0,   2,  16,   0,   2,   7,   0,   0,  22,   0,   0,   0,\n",
       "          0,   0],\n",
       "       [ 12,   0,   0,   8,   1,   0,   0,   0,   2,   0,   0,   0,   0,\n",
       "         14,   0,   0,   0,   7,   9,   0,   7,   0,   0,   0,   0,   0,\n",
       "          0,   0],\n",
       "       [  0,   0,   3,   5,   0,   0,   4,  16,   0,  10,  14,   6,  29,\n",
       "        122, 182, 255, 255, 152,  66,  26,   0,   0,  15,   0,   0,   0,\n",
       "          0,   0],\n",
       "       [  0,   7,   5,   0,   9,  12,   0,   0,   4,   0,  49, 184, 255,\n",
       "        255, 232, 255, 255, 231, 246, 227,  64,   0,   0,   4,   0,   0,\n",
       "          0,   0],\n",
       "       [  2,  15,   0,   0,   6,   0,   0,  13,   6, 148, 241, 255, 248,\n",
       "        236, 194, 151, 192, 253, 252, 244, 231, 121,   5,   6,   0,   0,\n",
       "          0,   0],\n",
       "       [  0,   7,   0,   0,   7,   0,  51, 191, 223, 254, 247, 248, 148,\n",
       "         30,   0,   6,  24,   0,  32, 116, 235, 255, 166,   0,   0,   0,\n",
       "          0,   0],\n",
       "       [  0,   4,   0,   0,  10,   0, 132, 246, 255, 247, 199,  77,   0,\n",
       "          0,   2,   0,   0,   7,   0,   0,  60, 238, 226,  46,   2,   0,\n",
       "          1,   5],\n",
       "       [  0,   0,   4,   0,  14,  59, 203, 255, 255, 201,  45,   1,  15,\n",
       "          0,   0,   1,   0,   4,   2,   0,   0, 137, 246, 169,   7,   0,\n",
       "          0,   4],\n",
       "       [  2,   0,   9,   0,   4, 127, 252, 252, 198,  32,   0,   0,   0,\n",
       "          5,   0,   3,   4,   0,   0,   1,   5,  78, 255, 222,  16,   1,\n",
       "          0,   3],\n",
       "       [  5,   0,   8,   0,   0, 150, 254, 247,  46,   7,   0,   8,   9,\n",
       "          0,   4,   3,   3,   0,   0,   4,   0,  19, 248, 254,  25,   4,\n",
       "          0,   2],\n",
       "       [  0,   1,   2,   0,   1, 150, 246, 255,  17,   9,   0,   4,   0,\n",
       "          0,   9,   0,   0,   0,   0,   6,   0,  46, 254, 255,  30,   5,\n",
       "          0,   2],\n",
       "       [  0,   1,   0,   0,   6, 139, 241, 251,  43,   0,  15,   6,   0,\n",
       "          9,   7,   0,   0,   0,   0,   3,  19, 120, 255, 240,  31,   5,\n",
       "          0,   3],\n",
       "       [  2,   0,   0,   2,   1, 133, 249, 197,   0,  27,   0,   0,  18,\n",
       "          0,   0,   8,   0,   7,   1,   0,   0, 153, 245, 255,  29,   3,\n",
       "          0,   5],\n",
       "       [  6,   0,   0,   4,   0, 142, 255, 156,   1,   0,   4,   0,   0,\n",
       "          6,   0,   0,   0,   3,   0,  10,  45, 245, 255, 250,  26,   2,\n",
       "          0,   6],\n",
       "       [  0,   0,   0,   0,   5, 152, 239,  63,   0,  14,   0,   4,   0,\n",
       "          1,   8,   0,   9,   0,   0,   5, 236, 255, 255, 152,   0,   0,\n",
       "          0,   0],\n",
       "       [  0,   9,  11,   0,   1, 126, 255,  59,   0,   1,   0,   5,   0,\n",
       "          1,   2,   0,   0,   0,  27, 169, 255, 247, 217,  26,   0,   0,\n",
       "          0,   0],\n",
       "       [  0,   0,   2,   0,  25,  97, 248,  83,   7,   0,   6,   0,   1,\n",
       "          0,   0,   0,   5,  47, 171, 255, 243, 255, 148,   0,   0,   0,\n",
       "          0,   0],\n",
       "       [  2,   0,  10,   0,   0,  13, 219, 255,  15,   0,  11,   0,   9,\n",
       "          6,   0,   7,  97, 239, 249, 243, 255, 163,  46,   0,   0,   0,\n",
       "          0,   0],\n",
       "       [ 15,   0,   0,   2,   6,   0, 100, 232, 246, 166, 104,  24,  32,\n",
       "         72, 128, 180, 245, 247, 255, 255, 174,   4,   0,   0,   0,   0,\n",
       "          0,   0],\n",
       "       [  0,   0,   8,   3,   0,   2,  63, 226, 254, 248, 255, 246, 255,\n",
       "        255, 255, 255, 255, 255, 237,  88,  13,  13,   0,  17,   0,   0,\n",
       "          0,   0],\n",
       "       [  0,   2,   0,   0,   0,   0,   0,  18, 199, 235, 250, 255, 255,\n",
       "        255, 255, 242, 255, 169,  43,  18,   0,   0,  11,   0,   0,   0,\n",
       "          0,   0],\n",
       "       [  2,   5,   0,   4,   1,   5,   8,   0,   9, 104, 169, 241, 248,\n",
       "        255, 247, 220,  95,  10,   7,   0,   0,   0,   0,   0,   0,   0,\n",
       "          0,   0],\n",
       "       [  0,   0,   0,   0,   0,   0,   0,   0,   0,   0,   0,   0,   0,\n",
       "          0,   0,   0,   0,   0,   0,   0,   0,   0,   0,   0,   0,   0,\n",
       "          0,   0],\n",
       "       [  0,   0,   0,   0,   0,   0,   0,   0,   0,   0,   0,   0,   0,\n",
       "          0,   0,   0,   0,   0,   0,   0,   0,   0,   0,   0,   0,   0,\n",
       "          0,   0],\n",
       "       [  0,   0,   0,   0,   0,   0,   0,   0,   0,   0,   0,   0,   0,\n",
       "          0,   0,   0,   0,   0,   0,   0,   0,   0,   0,   0,   0,   0,\n",
       "          0,   0],\n",
       "       [  0,   0,   0,   0,   0,   0,   0,   0,   0,   0,   0,   0,   0,\n",
       "          0,   0,   0,   0,   0,   0,   0,   0,   0,   0,   0,   0,   0,\n",
       "          0,   0]], dtype=uint8)"
      ]
     },
     "execution_count": 7,
     "metadata": {},
     "output_type": "execute_result"
    }
   ],
   "source": [
    "digit_0_array_gray"
   ]
  },
  {
   "cell_type": "markdown",
   "id": "56801e1a",
   "metadata": {},
   "source": [
    "### 1.1. Convert Numpy array to Torch tensors"
   ]
  },
  {
   "cell_type": "code",
   "execution_count": 8,
   "id": "13b42cbc",
   "metadata": {},
   "outputs": [
    {
     "name": "stdout",
     "output_type": "stream",
     "text": [
      "Shape of image tensor 0: torch.Size([28, 28, 3])\n",
      "Normalised Min pixel value: 0.0, Normalisex Max pixel value: 1.0\n"
     ]
    },
    {
     "data": {
      "image/png": "[encoded data removed]",
      "text/plain": [
       "<Figure size 640x480 with 1 Axes>"
      ]
     },
     "metadata": {},
     "output_type": "display_data"
    }
   ],
   "source": [
    "image_tensor_0 = torch.tensor(digit_0_array_og, dtype=torch.float32) / 255.0\n",
    "image_tensor_1 = torch.tensor(digit_1_array_og, dtype=torch.float32) / 255.0\n",
    "\n",
    "print(\"Shape of image tensor 0:\", image_tensor_0.shape)\n",
    "print(f\"Normalised Min pixel value: {torch.min(image_tensor_0)}, Normalisex Max pixel value: {torch.max(image_tensor_1)}\")\n",
    "\n",
    "plt.imshow(image_tensor_0, cmap='gray')\n",
    "plt.title(\"Normalised Digit 0 Image\")\n",
    "plt.axis('off')\n",
    "plt.show()"
   ]
  },
  {
   "cell_type": "markdown",
   "id": "170d1992",
   "metadata": {},
   "source": [
    "### 1.2. Creating Input Batch"
   ]
  },
  {
   "cell_type": "code",
   "execution_count": 9,
   "id": "cfccd1a1",
   "metadata": {},
   "outputs": [
    {
     "name": "stdout",
     "output_type": "stream",
     "text": [
      "Batch tensor shape: torch.Size([2, 28, 28, 3])\n"
     ]
    }
   ],
   "source": [
    "batch_tensor = torch.stack([image_tensor_0, image_tensor_1], dim=0)\n",
    "print('Batch tensor shape:', batch_tensor.shape)"
   ]
  },
  {
   "cell_type": "markdown",
   "id": "86de8987",
   "metadata": {},
   "source": [
    "Additionally in PyTorch, image tensors typically follow the shape convention [N ,C ,H ,W] unlike tensorflow which follows [N, H, W, C].\n",
    "\n",
    "Therefore, we need to bring the color channel to the second dimension. This can be achieved using either torch.view() or torch.permute()."
   ]
  },
  {
   "cell_type": "code",
   "execution_count": 10,
   "id": "2b5d3d4c",
   "metadata": {},
   "outputs": [
    {
     "name": "stdout",
     "output_type": "stream",
     "text": [
      "Batch tensor shape after permute: torch.Size([2, 3, 28, 28])\n"
     ]
    }
   ],
   "source": [
    "batch_tensor = batch_tensor.permute(0, 3, 1, 2)\n",
    "print('Batch tensor shape after permute:', batch_tensor.shape)"
   ]
  },
  {
   "cell_type": "markdown",
   "id": "31f947f0",
   "metadata": {},
   "source": [
    "## 2. Introduction to Tensors and its Operations"
   ]
  },
  {
   "cell_type": "markdown",
   "id": "b071e0b1",
   "metadata": {},
   "source": [
    "### 2.1 Let's construct a tensor"
   ]
  },
  {
   "cell_type": "code",
   "execution_count": 11,
   "id": "db48136c",
   "metadata": {},
   "outputs": [
    {
     "name": "stdout",
     "output_type": "stream",
     "text": [
      "a: tensor([1., 1., 1., 1., 1.]), shape: torch.Size([5]), dtype: torch.float32\n",
      "b: tensor([[1., 1., 1., 1., 1.]]), row_vecotor shape: torch.Size([1, 5]), dtype: torch.float32\n",
      "c: tensor([[1.],\n",
      "        [1.],\n",
      "        [1.],\n",
      "        [1.],\n",
      "        [1.]]), col_vector shape: torch.Size([5, 1]), dtype: torch.float32\n"
     ]
    }
   ],
   "source": [
    "a = torch.ones([5])\n",
    "print(f'a: {a}, shape: {a.shape}, dtype: {a.dtype}')\n",
    "\n",
    "b = torch.ones([1, 5], )\n",
    "print(f'b: {b}, row_vecotor shape: {b.shape}, dtype: {b.dtype}')\n",
    "\n",
    "c = torch.ones([5, 1])\n",
    "print(f'c: {c}, col_vector shape: {c.shape}, dtype: {c.dtype}')\n"
   ]
  },
  {
   "cell_type": "code",
   "execution_count": null,
   "id": "9b284aef",
   "metadata": {},
   "outputs": [],
   "source": []
  },
  {
   "cell_type": "code",
   "execution_count": 12,
   "id": "91da0143",
   "metadata": {},
   "outputs": [
    {
     "data": {
      "text/plain": [
       "tensor([[1., 2., 3.],\n",
       "        [4., 5., 6.]])"
      ]
     },
     "metadata": {},
     "output_type": "display_data"
    },
    {
     "data": {
      "text/plain": [
       "torch.Size([2, 3])"
      ]
     },
     "metadata": {},
     "output_type": "display_data"
    },
    {
     "data": {
      "text/plain": [
       "'2 dimensional tensor'"
      ]
     },
     "metadata": {},
     "output_type": "display_data"
    }
   ],
   "source": [
    "d = torch.tensor([[1., 2, 3], [4, 5, 6]])\n",
    "display(d)\n",
    "display(d.shape)\n",
    "display(f'{d.ndim} dimensional tensor')"
   ]
  },
  {
   "cell_type": "code",
   "execution_count": 13,
   "id": "39a44efa",
   "metadata": {},
   "outputs": [
    {
     "data": {
      "text/plain": [
       "tensor([[[1, 2],\n",
       "         [3, 4]],\n",
       "\n",
       "        [[5, 6],\n",
       "         [7, 8]]])"
      ]
     },
     "metadata": {},
     "output_type": "display_data"
    },
    {
     "data": {
      "text/plain": [
       "torch.Size([2, 2, 2])"
      ]
     },
     "metadata": {},
     "output_type": "display_data"
    },
    {
     "data": {
      "text/plain": [
       "'3 dimensional tensor'"
      ]
     },
     "metadata": {},
     "output_type": "display_data"
    }
   ],
   "source": [
    "e = torch.tensor([[[1, 2], [3, 4]], [[5, 6],[7, 8]]])\n",
    "display(e)\n",
    "display(e.shape)\n",
    "display(f'{e.ndim} dimensional tensor')"
   ]
  },
  {
   "cell_type": "markdown",
   "id": "52a2d063",
   "metadata": {},
   "source": [
    "### 2.2. Access an element in Tensor"
   ]
  },
  {
   "cell_type": "code",
   "execution_count": 14,
   "id": "d5d8f318",
   "metadata": {},
   "outputs": [
    {
     "name": "stdout",
     "output_type": "stream",
     "text": [
      "tensor([5, 6])\n",
      "tensor([5, 6])\n",
      "tensor(6)\n"
     ]
    }
   ],
   "source": [
    "print(e[1][0])\n",
    "print(e[1, 0])  # This is a more concise way to access the same element\n",
    "print(e[1, 0, 1])  # Accessing the second element of the first row of the second matrix"
   ]
  },
  {
   "cell_type": "code",
   "execution_count": 15,
   "id": "441ae31d",
   "metadata": {},
   "outputs": [
    {
     "data": {
      "text/plain": [
       "tensor([3, 4])"
      ]
     },
     "execution_count": 15,
     "metadata": {},
     "output_type": "execute_result"
    }
   ],
   "source": [
    "e[0, 1]"
   ]
  },
  {
   "cell_type": "markdown",
   "id": "cf3ca0ad",
   "metadata": {},
   "source": [
    "### 2.3 Specify data types"
   ]
  },
  {
   "cell_type": "code",
   "execution_count": 16,
   "id": "a375faed",
   "metadata": {},
   "outputs": [],
   "source": [
    "int_tensor = torch.tensor([[5, 1], [2, 4]], dtype=torch.int64)\n",
    "float_tensor = torch.tensor([[5., 1], [2, 4]], dtype=torch.float64)"
   ]
  },
  {
   "cell_type": "code",
   "execution_count": 17,
   "id": "8089cf63",
   "metadata": {},
   "outputs": [
    {
     "data": {
      "text/plain": [
       "(torch.int64, torch.float64)"
      ]
     },
     "execution_count": 17,
     "metadata": {},
     "output_type": "execute_result"
    }
   ],
   "source": [
    "int_tensor.dtype, float_tensor.dtype"
   ]
  },
  {
   "cell_type": "code",
   "execution_count": 18,
   "id": "5f619a24",
   "metadata": {},
   "outputs": [
    {
     "name": "stdout",
     "output_type": "stream",
     "text": [
      "int_tensor.dtype: torch.int64\n",
      "int_tensor: tensor([[5, 1],\n",
      "        [2, 4]])\n",
      "Converted float tensor: tensor([[5., 1.],\n",
      "        [2., 4.]], dtype=torch.float64)\n"
     ]
    }
   ],
   "source": [
    "print(f'int_tensor.dtype: {int_tensor.dtype}')\n",
    "print(f'int_tensor: {int_tensor}')\n",
    "# convert int_tensor to float\n",
    "float_tensor_converted = int_tensor.to(torch.float64)\n",
    "print(\"Converted float tensor:\", float_tensor_converted)"
   ]
  },
  {
   "cell_type": "markdown",
   "id": "80cd0cec",
   "metadata": {},
   "source": [
    "### 2.4. Tensor to/from NumPy Array"
   ]
  },
  {
   "cell_type": "code",
   "execution_count": 19,
   "id": "6dae00d1",
   "metadata": {},
   "outputs": [
    {
     "name": "stdout",
     "output_type": "stream",
     "text": [
      "Numpy array from tensor d: [[1. 2. 3.]\n",
      " [4. 5. 6.]]\n",
      "Tensor from numpy array h: tensor([[1, 2],\n",
      "        [3, 4]])\n"
     ]
    }
   ],
   "source": [
    "d_numpy = d.numpy()\n",
    "print(\"Numpy array from tensor d:\", d_numpy)\n",
    "\n",
    "# Convert numpy array back to tensor\n",
    "h = np.array([[1,2], [3, 4]])\n",
    "\n",
    "h_tensor = torch.from_numpy(h)\n",
    "print(\"Tensor from numpy array h:\", h_tensor)"
   ]
  },
  {
   "cell_type": "markdown",
   "id": "ddf1cff4",
   "metadata": {},
   "source": [
    "### 2.5. Arithmetic Operations on Tensors"
   ]
  },
  {
   "cell_type": "code",
   "execution_count": 20,
   "id": "8eb7ff5b",
   "metadata": {},
   "outputs": [
    {
     "name": "stdout",
     "output_type": "stream",
     "text": [
      "Tensor addition: \n",
      "tensor([[ 2,  4,  6],\n",
      "        [ 0, 10, 12]])\n",
      "\n",
      "Tensor addition using add: \n",
      "tensor([[ 2,  4,  6],\n",
      "        [ 0, 10, 12]])\n",
      "\n",
      "Tensor Subtraction: \n",
      "tensor([[0, 0, 0],\n",
      "        [8, 0, 0]])\n",
      "\n",
      "Tensor subtraction using sub: \n",
      "tensor([[0, 0, 0],\n",
      "        [8, 0, 0]])\n",
      "\n",
      "Tensor Multiplication with scalar: \n",
      "tensor([[ 3,  6,  9],\n",
      "        [12, 15, 18]])\n",
      "\n",
      "Tensor Multiplication with scalar using mul: \n",
      "tensor([[ 3,  6,  9],\n",
      "        [12, 15, 18]])\n",
      "\n",
      "Tensor Element-wise Multiplication: \n",
      "tensor([[  1,   4,   9],\n",
      "        [-16,  25,  36]])\n",
      "\n",
      "Tensor Element-wise Multiplication usign mul: \n",
      "tensor([[  1,   4,   9],\n",
      "        [-16,  25,  36]])\n",
      "\n",
      "Tensor Division with scalar: \n",
      "tensor([[0.3333, 0.6667, 1.0000],\n",
      "        [1.3333, 1.6667, 2.0000]])\n",
      "\n",
      "Tensor Division with scalar using div: \n",
      "tensor([[0.3333, 0.6667, 1.0000],\n",
      "        [1.3333, 1.6667, 2.0000]])\n",
      "\n",
      "Tensor Element-wise Division: \n",
      "tensor([[ 1.,  1.,  1.],\n",
      "        [-1.,  1.,  1.]])\n",
      "\n",
      "Tensor Element-wise Division using div: \n",
      "tensor([[ 1.,  1.,  1.],\n",
      "        [-1.,  1.,  1.]])\n",
      "\n"
     ]
    }
   ],
   "source": [
    "# Create tensor\n",
    "tensor_1 = torch.tensor([[1, 2, 3], [4, 5, 6]])\n",
    "tensor_2 = torch.tensor([[1, 2, 3], [-4, 5, 6]])\n",
    "\n",
    "# Addition \n",
    "print(f'Tensor addition: \\n{tensor_1 + tensor_2}\\n')\n",
    "print(f'Tensor addition using add: \\n{torch.add(tensor_1, tensor_2)}\\n')\n",
    "\n",
    "# Subtraction\n",
    "print(f'Tensor Subtraction: \\n{tensor_1 - tensor_2}\\n')\n",
    "print(f\"Tensor subtraction using sub: \\n{torch.sub(tensor_1, tensor_2)}\\n\")\n",
    "\n",
    "# Multiplication\n",
    "print(f'Tensor Multiplication with scalar: \\n{tensor_1 *3}\\n')\n",
    "print(f\"Tensor Multiplication with scalar using mul: \\n{torch.mul(tensor_1, 3)}\\n\")\n",
    "# Element-wise multiplication\n",
    "print(f'Tensor Element-wise Multiplication: \\n{tensor_1 * tensor_2}\\n')\n",
    "print(f'Tensor Element-wise Multiplication usign mul: \\n{torch.mul(tensor_1, tensor_2)}\\n')\n",
    "\n",
    "# Division\n",
    "print(f'Tensor Division with scalar: \\n{tensor_1 / 3}\\n')\n",
    "print(f'Tensor Division with scalar using div: \\n{torch.div(tensor_1, 3)}\\n')\n",
    "# Element-wise division\n",
    "print(f'Tensor Element-wise Division: \\n{tensor_1 / tensor_2}\\n')\n",
    "print(f'Tensor Element-wise Division using div: \\n{torch.div(tensor_1, tensor_2)}\\n')"
   ]
  },
  {
   "cell_type": "markdown",
   "id": "0dba6775",
   "metadata": {},
   "source": [
    "### 2.6 Broadcasting"
   ]
  },
  {
   "cell_type": "markdown",
   "id": "e324eaa6",
   "metadata": {},
   "source": [
    " - `a` is a 1-dimensional tensor with shape \\([ 3 ]\\).\n",
    " - `b` is a scalar tensor with shape \\([ 1 ]\\).\n",
    " - When adding `a` and `b`, PyTorch broadcasts `b` to match the shape of `a`, resulting in \\([ 1 + 4, 2 + 4, 3 + 4 ]\\)."
   ]
  },
  {
   "cell_type": "code",
   "execution_count": 23,
   "id": "a8d452f7",
   "metadata": {},
   "outputs": [
    {
     "name": "stdout",
     "output_type": "stream",
     "text": [
      "Shape:  torch.Size([3, 3])\n",
      "\n",
      "\n",
      "Broadcasting result: \n",
      "tensor([[5, 6, 7],\n",
      "        [6, 7, 8],\n",
      "        [7, 8, 9]])\n"
     ]
    }
   ],
   "source": [
    "# Create 2 1D tensors\n",
    "\n",
    "tensor_a = torch.tensor([1, 2, 3])\n",
    "\n",
    "tensor_b = torch.tensor([[4,], [5,], [6]])\n",
    "\n",
    "result = torch.add(tensor_a, tensor_b)\n",
    "\n",
    "print(\"Shape: \", result.shape)\n",
    "print(\"\\n\")\n",
    "print(f'Broadcasting result: \\n{result}')"
   ]
  },
  {
   "cell_type": "markdown",
   "id": "ff3ac286",
   "metadata": {},
   "source": [
    "[Broadcasting](https://pytorch.org/docs/stable/notes/broadcasting.html#broadcasting-semantics) allows PyTorch to perform element-wise operations on tensors of\n",
    "   - `a` is a 2-dimensional tensor with shape \\([1, 3]\\).\n",
    "   - `b` is a 2-dimensional tensor with shape \\([3, 1]\\).\n",
    "   - When adding `a` and `b`, PyTorch broadcasts both tensors to the common shape \\([3, 3]\\), resulting in:\n",
    "   \n",
    "$$\n",
    "\\begin{bmatrix}\n",
    "1+4 & 2+4 & 3+4 \\\\\n",
    "1+5 & 2+5 & 3+5 \\\\\n",
    "1+6 & 2+6 & 3+6 \\\\\n",
    "\\end{bmatrix}\n",
    "$$\n",
    "\n",
    "\n"
   ]
  },
  {
   "cell_type": "markdown",
   "id": "6c48e46f",
   "metadata": {},
   "source": [
    "### 2.7. CPU v/s GPU Tensor"
   ]
  },
  {
   "cell_type": "code",
   "execution_count": 25,
   "id": "909bedb3",
   "metadata": {},
   "outputs": [],
   "source": [
    "tensor_cpu = torch.tensor([[1., 2], [3, 4], [5, 6]], device='cpu')\n",
    "\n",
    "tensor_gpu = torch.tensor([[1., 2], [3, 4], [5, 6]], device='cuda')"
   ]
  },
  {
   "cell_type": "markdown",
   "id": "5af59252",
   "metadata": {},
   "source": [
    "Just like tensor creation, the operations performed for CPU and GPU tensors are also different and consume RAM corresponding to the device specified."
   ]
  },
  {
   "cell_type": "code",
   "execution_count": 28,
   "id": "3175e810",
   "metadata": {},
   "outputs": [
    {
     "name": "stdout",
     "output_type": "stream",
     "text": [
      "Tensor on CPU: \n",
      "tensor([[125., 250.],\n",
      "        [375., 500.],\n",
      "        [625., 750.]])\n",
      "\n",
      "Tensor on GPU: \n",
      "tensor([[125., 250.],\n",
      "        [375., 500.],\n",
      "        [625., 750.]], device='cuda:0')\n",
      "CUDA is available. Using GPU.\n"
     ]
    }
   ],
   "source": [
    "tensor_cpu = tensor_cpu * 5 # This uses the CPU RAM\n",
    "\n",
    "tensor_gpu = tensor_gpu * 5 # This uses the GPU RAM\n",
    "print(f'Tensor on CPU: \\n{tensor_cpu}\\n')\n",
    "print(f'Tensor on GPU: \\n{tensor_gpu}')\n",
    "# Check if CUDA is available\n",
    "if torch.cuda.is_available():\n",
    "    print(\"CUDA is available. Using GPU.\")\n",
    "    device = torch.device(\"cuda\")\n",
    "else:\n",
    "    print(\"CUDA is not available. Using CPU.\")\n",
    "    device = torch.device(\"cpu\")"
   ]
  },
  {
   "cell_type": "code",
   "execution_count": 31,
   "id": "f2e6e3d4",
   "metadata": {},
   "outputs": [
    {
     "name": "stdout",
     "output_type": "stream",
     "text": [
      "Tensor moved to cpu: \n",
      "tensor([[125., 250.],\n",
      "        [375., 500.],\n",
      "        [625., 750.]])\n",
      "Is tensor_gpu_cpu on GPU? False\n",
      "Is tensor_gpu_cpu on CPU? True\n",
      "Tensor on CPU: \n",
      "tensor([[125., 250.],\n",
      "        [375., 500.],\n",
      "        [625., 750.]])\n",
      "\n",
      "\n",
      "Tensor moved to cuda: \n",
      "tensor([[125., 250.],\n",
      "        [375., 500.],\n",
      "        [625., 750.]], device='cuda:0')\n",
      "Is tensor_cpu_gpu on GPU? True\n",
      "Is tensor_cpu_gpu on CPU? False\n",
      "Tensor on GPU: \n",
      "tensor([[125., 250.],\n",
      "        [375., 500.],\n",
      "        [625., 750.]], device='cuda:0')\n"
     ]
    }
   ],
   "source": [
    "# We can move tensors to the GPU and vice versa\n",
    "tensor_gpu_cpu = tensor_gpu.to('cpu')\n",
    "print(f'Tensor moved to {'cpu'}: \\n{tensor_gpu_cpu}')\n",
    "# Check if the tensor is on GPU\n",
    "print(f'Is tensor_gpu_cpu on GPU? {tensor_gpu_cpu.is_cuda}')\n",
    "# Check if the tensor is on CPU\n",
    "print(f'Is tensor_gpu_cpu on CPU? {tensor_gpu_cpu.is_cpu}')\n",
    "print(f'Tensor on CPU: \\n{tensor_gpu_cpu}\\n\\n')\n",
    "\n",
    "tensor_cpu_gpu = tensor_cpu.to('cuda')\n",
    "print(f'Tensor moved to {'cuda'}: \\n{tensor_cpu_gpu}')\n",
    "# Check if the tensor is on GPU\n",
    "print(f'Is tensor_cpu_gpu on GPU? {tensor_cpu_gpu.is_cuda}')\n",
    "# Check if the tensor is on CPU\n",
    "print(f'Is tensor_cpu_gpu on CPU? {tensor_cpu_gpu.is_cpu}')\n",
    "# Check if the tensor is on GPU\n",
    "print(f'Tensor on GPU: \\n{tensor_cpu_gpu}')"
   ]
  },
  {
   "cell_type": "markdown",
   "id": "9baf5f0a",
   "metadata": {},
   "source": [
    "# 3. Conclusion\n",
    "\n",
    "\n",
    "In this notebook, we started with constructing simple tensors and manipulating them. Next notebook, we will understand the functionality of Torch Autograd and its role in automatic differentiation and gradient computation.\n",
    "In the upcoming notebooks, we will go deeper into backpropagation and various computer vision tasks such as Classification, Segmentation, Object Detection, and Instance Segmentation. Each notebook will provide a detailed explanation and hands-on examples to help you serve as starter notebooks to master the essential tasks in computer vision."
   ]
  },
  {
   "cell_type": "code",
   "execution_count": null,
   "id": "522642bd",
   "metadata": {},
   "outputs": [],
   "source": []
  }
 ],
 "metadata": {
  "kernelspec": {
   "display_name": "gen_ai_env",
   "language": "python",
   "name": "python3"
  },
  "language_info": {
   "codemirror_mode": {
    "name": "ipython",
    "version": 3
   },
   "file_extension": ".py",
   "mimetype": "text/x-python",
   "name": "python",
   "nbconvert_exporter": "python",
   "pygments_lexer": "ipython3",
   "version": "3.12.0"
  }
 },
 "nbformat": 4,
 "nbformat_minor": 5
}
