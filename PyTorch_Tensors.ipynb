{
  "nbformat": 4,
  "nbformat_minor": 0,
  "metadata": {
    "colab": {
      "provenance": [],
      "authorship_tag": "ABX9TyO+cFjl7ym8Hrg23bwt1DUg",
      "include_colab_link": true
    },
    "kernelspec": {
      "name": "python3",
      "display_name": "Python 3"
    },
    "language_info": {
      "name": "python"
    }
  },
  "cells": [
    {
      "cell_type": "markdown",
      "metadata": {
        "id": "view-in-github",
        "colab_type": "text"
      },
      "source": [
        "<a href=\"https://colab.research.google.com/github/ranjithnrjk/PyTorch_basics/blob/main/PyTorch_Tensors.ipynb\" target=\"_parent\"><img src=\"https://colab.research.google.com/assets/colab-badge.svg\" alt=\"Open In Colab\"/></a>"
      ]
    },
    {
      "cell_type": "markdown",
      "source": [
        "<h1>Tensors</h1>\n",
        "It's a multi dimensional array"
      ],
      "metadata": {
        "id": "d36QNNHjajDf"
      }
    },
    {
      "cell_type": "code",
      "source": [
        "import torch\n",
        "import numpy as np"
      ],
      "metadata": {
        "id": "hdK1iabRazh2"
      },
      "execution_count": 4,
      "outputs": []
    },
    {
      "cell_type": "markdown",
      "source": [
        "## Lists"
      ],
      "metadata": {
        "id": "Y2C7sAzWavfX"
      }
    },
    {
      "cell_type": "code",
      "source": [
        "my_list = [[1,2,3],[4,5,6]]\n",
        "my_list"
      ],
      "metadata": {
        "colab": {
          "base_uri": "https://localhost:8080/"
        },
        "id": "1KHjH9RqYJdy",
        "outputId": "1eed848e-fc45-40f6-b4c4-95fc41b22e90"
      },
      "execution_count": 5,
      "outputs": [
        {
          "output_type": "execute_result",
          "data": {
            "text/plain": [
              "[[1, 2, 3], [4, 5, 6]]"
            ]
          },
          "metadata": {},
          "execution_count": 5
        }
      ]
    },
    {
      "cell_type": "markdown",
      "source": [
        "## Numpy Arrays"
      ],
      "metadata": {
        "id": "IutWKhLobEQv"
      }
    },
    {
      "cell_type": "code",
      "source": [
        "np1 = np.random.rand(3,4)\n",
        "np1"
      ],
      "metadata": {
        "colab": {
          "base_uri": "https://localhost:8080/"
        },
        "id": "94uKfQNtbHio",
        "outputId": "859f2f0f-5e24-4297-be8f-4c77c467c351"
      },
      "execution_count": 6,
      "outputs": [
        {
          "output_type": "execute_result",
          "data": {
            "text/plain": [
              "array([[0.65596872, 0.19600618, 0.16141412, 0.51532533],\n",
              "       [0.94235628, 0.74180507, 0.2646719 , 0.58072905],\n",
              "       [0.82123025, 0.7579416 , 0.18912012, 0.75468132]])"
            ]
          },
          "metadata": {},
          "execution_count": 6
        }
      ]
    },
    {
      "cell_type": "code",
      "source": [
        "np1.dtype"
      ],
      "metadata": {
        "colab": {
          "base_uri": "https://localhost:8080/"
        },
        "id": "A4sXREZ5bXlg",
        "outputId": "2a68bd91-9d0b-46c9-cf43-d0d60b03f518"
      },
      "execution_count": 7,
      "outputs": [
        {
          "output_type": "execute_result",
          "data": {
            "text/plain": [
              "dtype('float64')"
            ]
          },
          "metadata": {},
          "execution_count": 7
        }
      ]
    },
    {
      "cell_type": "markdown",
      "source": [
        "## PyTorch Arrays"
      ],
      "metadata": {
        "id": "0WnpECWkbaMo"
      }
    },
    {
      "cell_type": "code",
      "source": [
        "tensor_2d = torch.rand(3,4)\n",
        "tensor_2d"
      ],
      "metadata": {
        "colab": {
          "base_uri": "https://localhost:8080/"
        },
        "id": "rUuWNPtmbijm",
        "outputId": "bf0aa057-b92b-4e3f-f154-78ba77624501"
      },
      "execution_count": 8,
      "outputs": [
        {
          "output_type": "execute_result",
          "data": {
            "text/plain": [
              "tensor([[0.5011, 0.0063, 0.1758, 0.9106],\n",
              "        [0.8715, 0.4808, 0.1574, 0.4266],\n",
              "        [0.5828, 0.1474, 0.5437, 0.7050]])"
            ]
          },
          "metadata": {},
          "execution_count": 8
        }
      ]
    },
    {
      "cell_type": "code",
      "source": [
        "torch.tensor(np1)"
      ],
      "metadata": {
        "colab": {
          "base_uri": "https://localhost:8080/"
        },
        "id": "a6GNvHX5bpn9",
        "outputId": "cf26d82f-ccc8-4c58-c849-dcff20d08971"
      },
      "execution_count": 9,
      "outputs": [
        {
          "output_type": "execute_result",
          "data": {
            "text/plain": [
              "tensor([[0.6560, 0.1960, 0.1614, 0.5153],\n",
              "        [0.9424, 0.7418, 0.2647, 0.5807],\n",
              "        [0.8212, 0.7579, 0.1891, 0.7547]], dtype=torch.float64)"
            ]
          },
          "metadata": {},
          "execution_count": 9
        }
      ]
    },
    {
      "cell_type": "code",
      "source": [
        "torch_1 = torch.arange(10)\n",
        "torch_1"
      ],
      "metadata": {
        "colab": {
          "base_uri": "https://localhost:8080/"
        },
        "id": "1o5VllDUcTJc",
        "outputId": "2db0d2f7-4090-443c-c876-7190d2511e33"
      },
      "execution_count": 10,
      "outputs": [
        {
          "output_type": "execute_result",
          "data": {
            "text/plain": [
              "tensor([0, 1, 2, 3, 4, 5, 6, 7, 8, 9])"
            ]
          },
          "metadata": {},
          "execution_count": 10
        }
      ]
    },
    {
      "cell_type": "markdown",
      "source": [
        "### PyTorch tensor transformations and operations"
      ],
      "metadata": {
        "id": "KDVpePZ6iSoL"
      }
    },
    {
      "cell_type": "code",
      "source": [
        "torch_2 = torch_1.reshape(2, -1)\n",
        "torch_2"
      ],
      "metadata": {
        "colab": {
          "base_uri": "https://localhost:8080/"
        },
        "id": "Je6qrktgfDbq",
        "outputId": "30df1c25-397c-49fa-f25c-84ad791d9151"
      },
      "execution_count": 11,
      "outputs": [
        {
          "output_type": "execute_result",
          "data": {
            "text/plain": [
              "tensor([[0, 1, 2, 3, 4],\n",
              "        [5, 6, 7, 8, 9]])"
            ]
          },
          "metadata": {},
          "execution_count": 11
        }
      ]
    },
    {
      "cell_type": "code",
      "source": [
        "torch_3 = torch_1.view(2, -1)\n",
        "torch_3"
      ],
      "metadata": {
        "colab": {
          "base_uri": "https://localhost:8080/"
        },
        "id": "67DXusPifLXU",
        "outputId": "02e87a0f-5bb1-420d-8ba2-705c5aa5b431"
      },
      "execution_count": 12,
      "outputs": [
        {
          "output_type": "execute_result",
          "data": {
            "text/plain": [
              "tensor([[0, 1, 2, 3, 4],\n",
              "        [5, 6, 7, 8, 9]])"
            ]
          },
          "metadata": {},
          "execution_count": 12
        }
      ]
    },
    {
      "cell_type": "code",
      "source": [
        "torch_1[2] = torch.tensor(10000)\n",
        "torch_1"
      ],
      "metadata": {
        "colab": {
          "base_uri": "https://localhost:8080/"
        },
        "id": "5TMl52pCfftY",
        "outputId": "0d6883bf-52b2-4e96-97d4-f28b3f15d0b7"
      },
      "execution_count": 15,
      "outputs": [
        {
          "output_type": "execute_result",
          "data": {
            "text/plain": [
              "tensor([    0,     1, 10000,     3,     4,     5,     6,     7,     8,     9])"
            ]
          },
          "metadata": {},
          "execution_count": 15
        }
      ]
    },
    {
      "cell_type": "code",
      "source": [
        "torch_2, torch_3"
      ],
      "metadata": {
        "colab": {
          "base_uri": "https://localhost:8080/"
        },
        "id": "H3jj9urTfkIj",
        "outputId": "1b334e37-5029-4e0d-dab8-97917bc2ea20"
      },
      "execution_count": 16,
      "outputs": [
        {
          "output_type": "execute_result",
          "data": {
            "text/plain": [
              "(tensor([[    0,     1, 10000,     3,     4],\n",
              "         [    5,     6,     7,     8,     9]]),\n",
              " tensor([[    0,     1, 10000,     3,     4],\n",
              "         [    5,     6,     7,     8,     9]]))"
            ]
          },
          "metadata": {},
          "execution_count": 16
        }
      ]
    },
    {
      "cell_type": "code",
      "source": [
        "torch_2[:, 1:3]"
      ],
      "metadata": {
        "colab": {
          "base_uri": "https://localhost:8080/"
        },
        "id": "l-kLiO91ftTC",
        "outputId": "caf80ccf-38c0-40db-e92d-e69adbb6741a"
      },
      "execution_count": 18,
      "outputs": [
        {
          "output_type": "execute_result",
          "data": {
            "text/plain": [
              "tensor([[    1, 10000],\n",
              "        [    6,     7]])"
            ]
          },
          "metadata": {},
          "execution_count": 18
        }
      ]
    },
    {
      "cell_type": "markdown",
      "source": [
        "### PyTorch tensor Math Operations"
      ],
      "metadata": {
        "id": "eHFRMsdLic56"
      }
    },
    {
      "cell_type": "code",
      "source": [
        "tensor_a = torch.tensor([1,2,34,5])\n",
        "tensor_b = torch.arange(4)"
      ],
      "metadata": {
        "id": "t00VHj40gVe-"
      },
      "execution_count": 21,
      "outputs": []
    },
    {
      "cell_type": "code",
      "source": [
        "# Addition\n",
        "tensor_c = torch.add(tensor_a, tensor_b)\n",
        "print('tensor_c: ', tensor_c)\n",
        "\n",
        "# Subtract\n",
        "tensor_d = torch.sub(tensor_a, tensor_b)\n",
        "print('tensor_d: ',tensor_d)\n",
        "\n",
        "# Multiply\n",
        "tensor_e = torch.mul(tensor_a, tensor_b)\n",
        "print(f'Tensor_e: ', tensor_e)\n",
        "\n",
        "# Division\n",
        "tensor_div = tensor_b / tensor_a\n",
        "print(f'tensor_div: {tensor_div}')\n",
        "\n",
        "tensor_div_ = torch.div(tensor_b, tensor_a)\n",
        "print(f\"tensor_div_: {tensor_div_}\")\n",
        "\n",
        "# Remianders\n",
        "tensor_mod = tensor_b % tensor_a\n",
        "print(f'tensor_mode: {tensor_mod}')\n",
        "\n",
        "tensor_mod_ = torch.remainder(tensor_b, tensor_a)\n",
        "print(f'tensor_mod: {tensor_mod_}')\n",
        "\n",
        "# Exponents\n",
        "tensor_exp = torch.pow(tensor_a, tensor_b)\n",
        "print(f\"tensor_exp: {tensor_exp}\")"
      ],
      "metadata": {
        "colab": {
          "base_uri": "https://localhost:8080/"
        },
        "id": "fmdTCEs_jFsb",
        "outputId": "9c020aa6-1aa9-4e7b-ee29-c6586343512c"
      },
      "execution_count": 26,
      "outputs": [
        {
          "output_type": "stream",
          "name": "stdout",
          "text": [
            "tensor_c:  tensor([ 1,  3, 36,  8])\n",
            "tensor_d:  tensor([ 1,  1, 32,  2])\n",
            "Tensor_e:  tensor([ 0,  2, 68, 15])\n",
            "tensor_div: tensor([0.0000, 0.5000, 0.0588, 0.6000])\n",
            "tensor_div_: tensor([0.0000, 0.5000, 0.0588, 0.6000])\n",
            "tensor_mode: tensor([0, 1, 2, 3])\n",
            "tensor_mod: tensor([0, 1, 2, 3])\n",
            "tensor_exp: tensor([   1,    2, 1156,  125])\n"
          ]
        }
      ]
    },
    {
      "cell_type": "code",
      "source": [],
      "metadata": {
        "id": "qvw_0fcVjJhX"
      },
      "execution_count": null,
      "outputs": []
    }
  ]
}